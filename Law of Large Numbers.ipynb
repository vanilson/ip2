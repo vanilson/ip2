{
 "cells": [
  {
   "cell_type": "code",
   "execution_count": 121,
   "metadata": {},
   "outputs": [],
   "source": [
    "import numpy as np\n",
    "from numpy.random import randn"
   ]
  },
  {
   "cell_type": "code",
   "execution_count": 122,
   "metadata": {},
   "outputs": [
    {
     "data": {
      "text/plain": [
       "0.807351768446466"
      ]
     },
     "execution_count": 122,
     "metadata": {},
     "output_type": "execute_result"
    }
   ],
   "source": [
    "randn()"
   ]
  },
  {
   "cell_type": "code",
   "execution_count": 127,
   "metadata": {},
   "outputs": [
    {
     "name": "stdout",
     "output_type": "stream",
     "text": [
      "N [10]: 70.0\n",
      "N [100]: 64.0\n",
      "N [1000]: 67.7\n",
      "N [10000]: 68.74\n",
      "N [100000]: 68.205\n",
      "N [1000000]: 68.2756\n",
      "N [10000000]: 68.2281\n"
     ]
    }
   ],
   "source": [
    "numbers = [10, 100, 1000, 10000, 100000, 1000000, 10000000]\n",
    "\n",
    "for n in numbers:\n",
    "    count = 0\n",
    "    for x in randn(n):\n",
    "        if x >= -1 and x <= 1: \n",
    "            count = count + 1\n",
    "    print(\"N [\" + str(n) + \"]: \" + str( ((count / n) * 100)) )"
   ]
  }
 ],
 "metadata": {
  "kernelspec": {
   "display_name": "Python 3",
   "language": "python",
   "name": "python3"
  },
  "language_info": {
   "codemirror_mode": {
    "name": "ipython",
    "version": 3
   },
   "file_extension": ".py",
   "mimetype": "text/x-python",
   "name": "python",
   "nbconvert_exporter": "python",
   "pygments_lexer": "ipython3",
   "version": "3.7.3"
  }
 },
 "nbformat": 4,
 "nbformat_minor": 2
}
